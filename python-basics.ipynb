{
 "cells": [
  {
   "cell_type": "markdown",
   "metadata": {},
   "source": [
    "# Python\n",
    "\n",
    "[**Python**](https://www.python.org/) ist eine Programmiersprache. Sie ist sehr gut für den Einstieg in die Programmierung geeignet. Python besitzt eine umfrangreiche Standardbibliothek und wird von einer aktiven Community gepflegt und ständig weiterentwickelt. \n",
    "\n",
    "Aufgrund ihrer Einfachheit und da es sich um eine interpretierte (gegenüber einer kompilierten) Sprache handelt, wird sie oft als Skriptsprache genutzt. Python unterstützt aber ebenso andere Programmierparadigmen, wie z.B. objektorientierte oder funktionale Programmierung.\n",
    "\n",
    "Sowohl in der Wissenschaft als auch in der Wirtschaft hat sich Python mittlerweile zu einer der beliebtesten Programmiersprachen entwickelt. Ein reiches Ökosystem von Drittbibliotheken für numerische Berechnungen, statistische Verfahren und zur Datenvisualisierung macht Python zu einem mächtigen Werkzeug für die Datenanalyse."
   ]
  },
  {
   "cell_type": "markdown",
   "metadata": {},
   "source": [
    "### Python 2 oder Python 3?\n",
    "\n",
    "Aus Gründen, auf die wir hier nicht näher eingehen wollen, gibt es in Python neben der aktuellen Version 3 auch noch viele Bibliotheken, die nur in der Python Version 2 unterstützen. In diesem Kurs nutzen wir durchgängig die Version **Python 3.8+**."
   ]
  },
  {
   "cell_type": "markdown",
   "metadata": {},
   "source": [
    "## Einstieg in die Programmierung mit Python\n",
    "\n",
    "In diesem Kurs werden wir immer wieder kleine oder auch größere Beispiele in Python programmieren. Deshalb wollen wir jetzt einige Grundlagen der Sprache kurz einführen bzw. wiederholen."
   ]
  },
  {
   "cell_type": "markdown",
   "metadata": {},
   "source": [
    "### Kommentare\n",
    "\n",
    "Kommentare im Code werden vom Python-Interpreter ignoriert. Kommentare werden mit einem **`#`** eingeleitet."
   ]
  },
  {
   "cell_type": "code",
   "execution_count": 1,
   "metadata": {},
   "outputs": [],
   "source": [
    "a = 42 # Dies ist ein einzeiliger Kommentar"
   ]
  },
  {
   "cell_type": "markdown",
   "metadata": {},
   "source": [
    "### Variablen\n",
    "\n",
    "Variablen können einfach angelegt werden. Python nutzt eine sogennante **dynamische Typisierung**, d.h. der Variablentyp wird nicht explizit angegeben. Grundsätzlich kann eine Variable jeden Datentyp aufnehmen."
   ]
  },
  {
   "cell_type": "code",
   "execution_count": 2,
   "metadata": {},
   "outputs": [],
   "source": [
    "n = 3  # Eine Integer-Variable\n",
    "s = 'python'  # Eine String-Variable\n",
    "f = 12.34  # Eine Float-Variable"
   ]
  },
  {
   "cell_type": "code",
   "execution_count": 3,
   "metadata": {},
   "outputs": [
    {
     "name": "stdout",
     "output_type": "stream",
     "text": [
      "<class 'int'> <class 'str'> <class 'float'>\n"
     ]
    },
    {
     "data": {
      "text/plain": [
       "6"
      ]
     },
     "execution_count": 3,
     "metadata": {},
     "output_type": "execute_result"
    }
   ],
   "source": [
    "print(type(n), type(s), type(f))\n",
    "len(s)"
   ]
  },
  {
   "cell_type": "markdown",
   "metadata": {},
   "source": [
    "Variablen können z.B. für einfache arithmetische Operationen genutzt werden."
   ]
  },
  {
   "cell_type": "code",
   "execution_count": 5,
   "metadata": {},
   "outputs": [
    {
     "name": "stdout",
     "output_type": "stream",
     "text": [
      "2 15 1.6666666666666667 1 2\n"
     ]
    },
    {
     "data": {
      "text/plain": [
       "2"
      ]
     },
     "execution_count": 5,
     "metadata": {},
     "output_type": "execute_result"
    }
   ],
   "source": [
    "a = 5\n",
    "b = 3\n",
    "c = a + b\n",
    "\n",
    "print(a-b, a*b, a/b, a//b, a%b)\n",
    "a%b"
   ]
  },
  {
   "cell_type": "code",
   "execution_count": 8,
   "metadata": {},
   "outputs": [
    {
     "name": "stdout",
     "output_type": "stream",
     "text": [
      "5.!.!.3.!.!.8\n",
      "5 3 8\n"
     ]
    }
   ],
   "source": [
    "# Mit Shift+Tab zeigt Jupyter eine Kontext-Hilfe\n",
    "# Dafür Cursor setzen zwischen (  ) und Schift+Tab\n",
    "print(a, b, c, sep='.!.!.')\n",
    "print(a,b,c)"
   ]
  },
  {
   "cell_type": "code",
   "execution_count": 9,
   "metadata": {},
   "outputs": [
    {
     "name": "stdout",
     "output_type": "stream",
     "text": [
      "Die Summe von 5 und 3 ist 8.\n",
      "Die Summe von 5 und 3 ist 8.\n",
      "Die Summe von 5 und 3 ist 8.\n"
     ]
    }
   ],
   "source": [
    "print(f'Die Summe von {a} und {b} ist {c}.')\n",
    "\n",
    "print('Die Summe von {} und {} ist {}.'.format(a, b, c))\n",
    "\n",
    "print('Die Summe von %d und %d ist %d.' % (a, b, c))"
   ]
  },
  {
   "cell_type": "markdown",
   "metadata": {},
   "source": [
    "### Listen\n",
    "\n",
    "[**Listen**](https://docs.python.org/3/tutorial/datastructures.html) sind ein spezieller Variablen-Typ. Sie enthalten, wie der Name schon vermuten lässt, eine Liste von weiteren Variablen."
   ]
  },
  {
   "cell_type": "code",
   "execution_count": 10,
   "metadata": {},
   "outputs": [
    {
     "data": {
      "text/plain": [
       "[1, [1, 2], 'Anton', {1: 1}]"
      ]
     },
     "execution_count": 10,
     "metadata": {},
     "output_type": "execute_result"
    }
   ],
   "source": [
    "names = ['Tim', 'Elon', 'Jenny', 'Bill', 'Melanie', 'Melissa']  # Eine Liste mit Namen als String\n",
    "ages = [19, 37, 40, 62, 31, 33]  # Eine Liste mit Zahlen als Integer\n",
    "\n",
    "mixed = [1, [1,2], 'Anton', {1:1}]\n",
    "mixed"
   ]
  },
  {
   "cell_type": "code",
   "execution_count": 11,
   "metadata": {},
   "outputs": [
    {
     "data": {
      "text/plain": [
       "['Tim', 'Melissa', 'Melanie', 'Jenny', 'Elon', 'Bill']"
      ]
     },
     "execution_count": 11,
     "metadata": {},
     "output_type": "execute_result"
    }
   ],
   "source": [
    "sorted(names, reverse=True)"
   ]
  },
  {
   "cell_type": "code",
   "execution_count": 12,
   "metadata": {},
   "outputs": [
    {
     "data": {
      "text/plain": [
       "222"
      ]
     },
     "execution_count": 12,
     "metadata": {},
     "output_type": "execute_result"
    }
   ],
   "source": [
    "sum(ages)"
   ]
  },
  {
   "cell_type": "code",
   "execution_count": 13,
   "metadata": {},
   "outputs": [
    {
     "data": {
      "text/plain": [
       "[19, 31, 33, 37, 40, 62]"
      ]
     },
     "execution_count": 13,
     "metadata": {},
     "output_type": "execute_result"
    }
   ],
   "source": [
    "sorted(ages)"
   ]
  },
  {
   "cell_type": "code",
   "execution_count": 15,
   "metadata": {},
   "outputs": [
    {
     "data": {
      "text/plain": [
       "'Tim,Elon,Jenny,Bill,Melanie,Melissa'"
      ]
     },
     "execution_count": 15,
     "metadata": {},
     "output_type": "execute_result"
    }
   ],
   "source": [
    "\",\".join(names) #Alle Einträge werden mit einem Komma verbunden"
   ]
  },
  {
   "cell_type": "code",
   "execution_count": 16,
   "metadata": {},
   "outputs": [
    {
     "name": "stdout",
     "output_type": "stream",
     "text": [
      "Das mittlere Alter beträgt 37.0 Jahre.\n"
     ]
    }
   ],
   "source": [
    "avg_age = sum(ages) / len(ages)\n",
    "print(f'Das mittlere Alter beträgt {avg_age} Jahre.')"
   ]
  },
  {
   "cell_type": "markdown",
   "metadata": {},
   "source": [
    "Listen können verschachtelt angelegt werden. Dabei müssen die Typen der einzelnen Einträge nicht identisch sein."
   ]
  },
  {
   "cell_type": "code",
   "execution_count": 18,
   "metadata": {},
   "outputs": [
    {
     "data": {
      "text/plain": [
       "3"
      ]
     },
     "execution_count": 18,
     "metadata": {},
     "output_type": "execute_result"
    }
   ],
   "source": [
    "liste = [6, [1, 2.67, 3], 'python', ['a', 'b']]\n",
    "liste[1][2]"
   ]
  },
  {
   "cell_type": "markdown",
   "metadata": {},
   "source": [
    "### Dictionaries\n",
    "\n",
    "Eine weitere sehr gebräuchliche und nützliche Datenstruktur sind [**Dictionaries**](https://docs.python.org/2/tutorial/datastructures.html#dictionaries). Sie ordnen jeweils einem Schlüssel (**_key_**) einen Wert (**_value_**) zu. Dictionaries können ebenfalls verschachtelt angelegt werden."
   ]
  },
  {
   "cell_type": "code",
   "execution_count": 19,
   "metadata": {},
   "outputs": [
    {
     "data": {
      "text/plain": [
       "{'a': 12, 'b': 2}"
      ]
     },
     "execution_count": 19,
     "metadata": {},
     "output_type": "execute_result"
    }
   ],
   "source": [
    "{'a': 1, 'b': 2, 'a': 12}"
   ]
  },
  {
   "cell_type": "code",
   "execution_count": 20,
   "metadata": {},
   "outputs": [],
   "source": [
    "d = {'python': 3.6, 62: 'Bill'}"
   ]
  },
  {
   "cell_type": "code",
   "execution_count": 21,
   "metadata": {},
   "outputs": [
    {
     "data": {
      "text/plain": [
       "3.6"
      ]
     },
     "execution_count": 21,
     "metadata": {},
     "output_type": "execute_result"
    }
   ],
   "source": [
    "d['python']"
   ]
  },
  {
   "cell_type": "code",
   "execution_count": 22,
   "metadata": {},
   "outputs": [
    {
     "data": {
      "text/plain": [
       "'Bill'"
      ]
     },
     "execution_count": 22,
     "metadata": {},
     "output_type": "execute_result"
    }
   ],
   "source": [
    "d[62]"
   ]
  },
  {
   "cell_type": "code",
   "execution_count": 23,
   "metadata": {},
   "outputs": [
    {
     "data": {
      "text/plain": [
       "3"
      ]
     },
     "execution_count": 23,
     "metadata": {},
     "output_type": "execute_result"
    }
   ],
   "source": [
    "d = {'a': {'b': 1, 'c': 3}, \"d\": 42}\n",
    "d[\"a\"][\"c\"]"
   ]
  },
  {
   "cell_type": "markdown",
   "metadata": {},
   "source": [
    "#### Eigene Experimente"
   ]
  },
  {
   "cell_type": "code",
   "execution_count": 78,
   "metadata": {},
   "outputs": [
    {
     "name": "stdout",
     "output_type": "stream",
     "text": [
      "Das Ergebnis lautet: 1899.828\n"
     ]
    }
   ],
   "source": [
    "# Probieren Sie Variablen, Listen und Dictionaries einmal selber aus\n",
    "a = 42\n",
    "b = 45.234\n",
    "c = a * b\n",
    "print(f\"Das Ergebnis lautet: {c}\")\n",
    "\n"
   ]
  },
  {
   "cell_type": "markdown",
   "metadata": {},
   "source": [
    "### Aufgabe 1: Einfache Listen"
   ]
  },
  {
   "cell_type": "code",
   "execution_count": 96,
   "metadata": {},
   "outputs": [],
   "source": [
    "liste_1 = ['eins', 'zwei', 'drei', 'vier']"
   ]
  },
  {
   "cell_type": "code",
   "execution_count": null,
   "metadata": {},
   "outputs": [],
   "source": []
  },
  {
   "cell_type": "code",
   "execution_count": null,
   "metadata": {},
   "outputs": [],
   "source": []
  },
  {
   "cell_type": "markdown",
   "metadata": {},
   "source": [
    "### Aufgabe 2: Einfache Dictionaries"
   ]
  },
  {
   "cell_type": "code",
   "execution_count": 103,
   "metadata": {},
   "outputs": [],
   "source": [
    "dict_1 = {'eins': 10, 'zwei': 2, 'drei': 3, 'vier': 7}"
   ]
  },
  {
   "cell_type": "code",
   "execution_count": null,
   "metadata": {},
   "outputs": [],
   "source": []
  },
  {
   "cell_type": "code",
   "execution_count": null,
   "metadata": {},
   "outputs": [],
   "source": []
  },
  {
   "cell_type": "markdown",
   "metadata": {},
   "source": [
    "### Aufgabe 3: Verschachtelte Listen"
   ]
  },
  {
   "cell_type": "code",
   "execution_count": 102,
   "metadata": {},
   "outputs": [],
   "source": [
    "liste_2 = [['eins','zwei'],['drei','vier'],[1,2],[3,[4,5,6]]]"
   ]
  },
  {
   "cell_type": "code",
   "execution_count": null,
   "metadata": {},
   "outputs": [],
   "source": []
  },
  {
   "cell_type": "code",
   "execution_count": null,
   "metadata": {},
   "outputs": [],
   "source": []
  },
  {
   "cell_type": "markdown",
   "metadata": {},
   "source": [
    "### Aufgabe 4: Komplexe Dictionaries"
   ]
  },
  {
   "cell_type": "code",
   "execution_count": 101,
   "metadata": {},
   "outputs": [],
   "source": [
    "var_1 = 'eins'\n",
    "var_2 = 'zwei'\n",
    "\n",
    "dict_2 = {1: [1,2,3], 2: {1: var_1, 2: var_2}, 3: {'key_1': True, 'key_2': False}, 4: 'Mein Text'}"
   ]
  },
  {
   "cell_type": "code",
   "execution_count": null,
   "metadata": {},
   "outputs": [],
   "source": []
  },
  {
   "cell_type": "code",
   "execution_count": null,
   "metadata": {},
   "outputs": [],
   "source": []
  },
  {
   "cell_type": "markdown",
   "metadata": {},
   "source": [
    "### Kontrollstrukturen\n",
    "\n",
    "So weit so gut, aber um wirklich etwas sinnvolles zu tun, brauchen wir verschiedene Kontrollstrukturen.\n",
    "\n",
    "#### Einschub: Syntax\n",
    "\n",
    "Im Gegensatz zu vielen anderen Programmiersprachen, in denen Leerzeichen durch den Compiler oder Interpreter ignoriert werden, spielen diese in Python in der Sprachsyntax eine große Rolle. \n",
    "\n",
    "Wie wir in den folgenden Beispielen sehen, werden die Zeilen innerhalb der Kontrollstrukturen eingerückt. Diese Einrückung von 4 Leerzeichen ist wichtig, da sonst der Code nicht interpretiert werden kann. Die Fehlermeldung sieht dann so ähnlich aus wie:\n",
    "\n",
    "```python\n",
    "  File \"<ipython-input-4-7de823a6cc3a>\", line 2\n",
    "    ...<some code>\n",
    "        ^\n",
    "IndentationError: expected an indented block\n",
    "```\n",
    "\n",
    "#### Der for-Loop"
   ]
  },
  {
   "cell_type": "code",
   "execution_count": 37,
   "metadata": {},
   "outputs": [
    {
     "data": {
      "text/plain": [
       "['Tim', 'Elon', 'Jenny', 'Bill', 'Melanie', 'Melissa']"
      ]
     },
     "execution_count": 37,
     "metadata": {},
     "output_type": "execute_result"
    }
   ],
   "source": [
    "names"
   ]
  },
  {
   "cell_type": "code",
   "execution_count": 26,
   "metadata": {},
   "outputs": [
    {
     "name": "stdout",
     "output_type": "stream",
     "text": [
      "Tim\n",
      "Elon\n",
      "Jenny\n",
      "Bill\n",
      "Melanie\n",
      "Melissa\n"
     ]
    }
   ],
   "source": [
    "# Eintrag nach Eintrag\n",
    "for name in names:  \n",
    "    print(name)"
   ]
  },
  {
   "cell_type": "code",
   "execution_count": 27,
   "metadata": {},
   "outputs": [
    {
     "data": {
      "text/plain": [
       "['Tim', 'Elon', 'Jenny', 'Bill', 'Melanie', 'Melissa']"
      ]
     },
     "execution_count": 27,
     "metadata": {},
     "output_type": "execute_result"
    }
   ],
   "source": [
    "for_list = []\n",
    "for name in names:\n",
    "    for_list.append(name)\n",
    "\n",
    "for_list"
   ]
  },
  {
   "cell_type": "code",
   "execution_count": 28,
   "metadata": {},
   "outputs": [
    {
     "data": {
      "text/plain": [
       "['Tim', 'Elon', 'Jenny', 'Bill', 'Melanie', 'Melissa']"
      ]
     },
     "execution_count": 28,
     "metadata": {},
     "output_type": "execute_result"
    }
   ],
   "source": [
    "while_list = []\n",
    "i = 0\n",
    "while i < len(names):\n",
    "    while_list.append(names[i])\n",
    "    i += 1\n",
    "\n",
    "while_list"
   ]
  },
  {
   "cell_type": "code",
   "execution_count": 29,
   "metadata": {},
   "outputs": [
    {
     "data": {
      "text/plain": [
       "<enumerate at 0x1f5f41d7380>"
      ]
     },
     "execution_count": 29,
     "metadata": {},
     "output_type": "execute_result"
    }
   ],
   "source": [
    "# Lazy-Functions oder Generator-Function\n",
    "enumerate(names)"
   ]
  },
  {
   "cell_type": "code",
   "execution_count": 30,
   "metadata": {},
   "outputs": [
    {
     "name": "stdout",
     "output_type": "stream",
     "text": [
      "Tim ist an Position 1.\n",
      "Elon ist an Position 2.\n",
      "Jenny ist an Position 3.\n",
      "Bill ist an Position 4.\n",
      "Melanie ist an Position 5.\n",
      "Melissa ist an Position 6.\n"
     ]
    }
   ],
   "source": [
    "# Eintrag nach Eintrag mit Zählindex\n",
    "for idx, name in enumerate(names):\n",
    "    print(f'{name} ist an Position {idx+1}.')"
   ]
  },
  {
   "cell_type": "markdown",
   "metadata": {},
   "source": [
    "**Wichtig:** Listen sowie andere Datenstrukturen in Python beginnen immer mit Position bzw. Index 0!"
   ]
  },
  {
   "cell_type": "code",
   "execution_count": 31,
   "metadata": {},
   "outputs": [
    {
     "data": {
      "text/plain": [
       "{'Tim': 19, 'Elon': 37, 'Jenny': 40, 'Bill': 62, 'Melanie': 31, 'Melissa': 33}"
      ]
     },
     "execution_count": 31,
     "metadata": {},
     "output_type": "execute_result"
    }
   ],
   "source": [
    "n = zip(names, ages)\n",
    "dict(n)"
   ]
  },
  {
   "cell_type": "code",
   "execution_count": 32,
   "metadata": {},
   "outputs": [
    {
     "name": "stdout",
     "output_type": "stream",
     "text": [
      "Tim ist 19 Jahre alt.\n",
      "Elon ist 37 Jahre alt.\n",
      "Jenny ist 40 Jahre alt.\n",
      "Bill ist 62 Jahre alt.\n",
      "Melanie ist 31 Jahre alt.\n",
      "Melissa ist 33 Jahre alt.\n"
     ]
    }
   ],
   "source": [
    "# Eintrag nach Eintrag von mehreren Listen\n",
    "for age, name in zip(ages, names):\n",
    "    print(f'{name} ist {age} Jahre alt.')"
   ]
  },
  {
   "cell_type": "markdown",
   "metadata": {},
   "source": [
    "### Aufgabe 5: Einfache Schleifen"
   ]
  },
  {
   "cell_type": "code",
   "execution_count": 77,
   "metadata": {},
   "outputs": [],
   "source": [
    "liste_einfach = [1,2,3,4,5,4,3,2,1]"
   ]
  },
  {
   "cell_type": "markdown",
   "metadata": {},
   "source": [
    "#### Geben Sie jedes Element der Liste aus"
   ]
  },
  {
   "cell_type": "code",
   "execution_count": null,
   "metadata": {},
   "outputs": [],
   "source": []
  },
  {
   "cell_type": "code",
   "execution_count": null,
   "metadata": {},
   "outputs": [],
   "source": []
  },
  {
   "cell_type": "markdown",
   "metadata": {},
   "source": [
    "### Aufgabe 6: For-Loop über verschachtelte Listen "
   ]
  },
  {
   "cell_type": "code",
   "execution_count": 76,
   "metadata": {},
   "outputs": [],
   "source": [
    "liste_komplex = [[1,2,3,4,5],[1,2,3,4,5]]"
   ]
  },
  {
   "cell_type": "markdown",
   "metadata": {},
   "source": [
    "#### Geben Sie jedes Subelement der Liste aus"
   ]
  },
  {
   "cell_type": "code",
   "execution_count": null,
   "metadata": {},
   "outputs": [],
   "source": []
  },
  {
   "cell_type": "code",
   "execution_count": null,
   "metadata": {},
   "outputs": [],
   "source": []
  },
  {
   "cell_type": "markdown",
   "metadata": {},
   "source": [
    "#### Das if-Statement\n",
    "\n",
    "Für logische Abfragen und Vergleiche gibt es auch in Python eine **if ... else** Kontrollstruktur. Sie funktioniert sowohl mit beiden vordefinierten boolschen Zuständen **`True`** und **`False`** als auch für Wertvergleiche etc.\n",
    "\n",
    "Im Hinterkopf sollte man immer behalten, dass z.B. eine leere Liste `[]`, ein leeres Dictionary `{}`, oder die Ziffer `0` als `False` gewertet werden. "
   ]
  },
  {
   "cell_type": "code",
   "execution_count": 33,
   "metadata": {},
   "outputs": [
    {
     "name": "stdout",
     "output_type": "stream",
     "text": [
      "False\n"
     ]
    },
    {
     "data": {
      "text/plain": [
       "(True, True, True)"
      ]
     },
     "execution_count": 33,
     "metadata": {},
     "output_type": "execute_result"
    }
   ],
   "source": [
    "a = 1\n",
    "b = 2\n",
    "print(a == b)\n",
    "a < b, b >= a, a != b"
   ]
  },
  {
   "cell_type": "code",
   "execution_count": 35,
   "metadata": {},
   "outputs": [
    {
     "name": "stdout",
     "output_type": "stream",
     "text": [
      "<class 'bool'>\n"
     ]
    },
    {
     "data": {
      "text/plain": [
       "True"
      ]
     },
     "execution_count": 35,
     "metadata": {},
     "output_type": "execute_result"
    }
   ],
   "source": [
    "color_one = 'red'\n",
    "color_two = 'red'\n",
    "is_same = color_one == color_two\n",
    "\n",
    "print(type(is_same))\n",
    "is_same"
   ]
  },
  {
   "cell_type": "code",
   "execution_count": 36,
   "metadata": {},
   "outputs": [
    {
     "name": "stdout",
     "output_type": "stream",
     "text": [
      "Die Farben sind gleich.\n"
     ]
    }
   ],
   "source": [
    "if color_one == color_two:\n",
    "    print('Die Farben sind gleich.')\n",
    "else:\n",
    "    print('Die Farben sind unterschiedlich.')"
   ]
  },
  {
   "cell_type": "code",
   "execution_count": 37,
   "metadata": {},
   "outputs": [],
   "source": [
    "if not is_same:  # Der eigentliche Vergleich wurde in der Variable `is_same` gespeichert. Negieren ist möglich.\n",
    "    print('Die Farben sind unterschiedlich.')"
   ]
  },
  {
   "cell_type": "markdown",
   "metadata": {},
   "source": [
    "### Aufgabe 7: if-Statement (if-else-Verzweigung)"
   ]
  },
  {
   "cell_type": "code",
   "execution_count": 84,
   "metadata": {},
   "outputs": [],
   "source": [
    "interfaces = [\n",
    "    {\n",
    "        \"ip_address\": \"10.0.0.1\",\n",
    "        \"subnet_mask\": \"255.25.255.0\",\n",
    "        \"description\": \"DMZ\",\n",
    "        \"name\": \"GigabitEthernet0/1\",\n",
    "        \"shutdown\": \"true\",\n",
    "    },\n",
    "    {\n",
    "        \"ip_address\": \"192.168.1.2\",\n",
    "        \"subnet_mask\": \"255.25.255.0\",\n",
    "        \"description\": \"Service provider\",\n",
    "        \"name\": \"GigabitEthernet0/1\",\n",
    "        \"shutdown\": \"true\",\n",
    "    },\n",
    "    {\n",
    "        \"ip_address\": \"\",\n",
    "        \"subnet_mask\": \"\",\n",
    "        \"description\": \"Interface towards LAN\",\n",
    "        \"name\": \"GigabitEthernet0/1\",\n",
    "        \"shutdown\": \"true\",\n",
    "    },\n",
    "]"
   ]
  },
  {
   "cell_type": "markdown",
   "metadata": {},
   "source": [
    "### Lösung:"
   ]
  },
  {
   "cell_type": "markdown",
   "metadata": {},
   "source": [
    "#### Geben Sie Interface-Name jedes Interfaces ohne IP-Adresse aus."
   ]
  },
  {
   "cell_type": "code",
   "execution_count": null,
   "metadata": {},
   "outputs": [],
   "source": []
  },
  {
   "cell_type": "markdown",
   "metadata": {},
   "source": [
    "#### Geben Sie IP-Adresse und Subnetz-Maske des Interfaces im DMZ aus. Falls es kein DMZ-Interface ist, geben Sie seinen Description aus."
   ]
  },
  {
   "cell_type": "code",
   "execution_count": null,
   "metadata": {},
   "outputs": [],
   "source": []
  },
  {
   "cell_type": "markdown",
   "metadata": {},
   "source": [
    "#### Funktionen\n",
    "\n",
    "Wiederkehrende Codefragmente können und sollten zur Übersichtlichkeit, zur Wiederverwendbarkeit und zur Pflege des Codes in eigenständige Funktionen ausgelagert werden.\n",
    "\n",
    "Einer Python-Funktion können Werte übergeben werden und sie kann Werte zurückgeben. Wie wir sehen werden, gibt es aber auch Funktionen, die weder das eine noch andere beinhalten."
   ]
  },
  {
   "cell_type": "code",
   "execution_count": 47,
   "metadata": {},
   "outputs": [],
   "source": [
    "def compare_colors(c_1, c_2):\n",
    "    if c_1 == c_2:\n",
    "        print('Die Farben sind gleich')\n",
    "    else:\n",
    "        print('Die Farben sind unterschiedlich')\n",
    "    # return None\n",
    "    # falls return nicht definiert gibt eine Funktion None zurück"
   ]
  },
  {
   "cell_type": "code",
   "execution_count": 39,
   "metadata": {},
   "outputs": [
    {
     "name": "stdout",
     "output_type": "stream",
     "text": [
      "Die Farben sind unterschiedlich\n"
     ]
    }
   ],
   "source": [
    "compare_colors('green', 'red')"
   ]
  },
  {
   "cell_type": "code",
   "execution_count": 40,
   "metadata": {},
   "outputs": [
    {
     "name": "stdout",
     "output_type": "stream",
     "text": [
      "Die Farben sind gleich\n"
     ]
    }
   ],
   "source": [
    "compare_colors('yellow', 'yellow')"
   ]
  },
  {
   "cell_type": "code",
   "execution_count": 42,
   "metadata": {},
   "outputs": [],
   "source": [
    "def addition(n, m):\n",
    "    return n + m"
   ]
  },
  {
   "cell_type": "code",
   "execution_count": 43,
   "metadata": {},
   "outputs": [
    {
     "data": {
      "text/plain": [
       "42"
      ]
     },
     "execution_count": 43,
     "metadata": {},
     "output_type": "execute_result"
    }
   ],
   "source": [
    "ergebnis = addition(12, 30)\n",
    "ergebnis"
   ]
  },
  {
   "cell_type": "code",
   "execution_count": 44,
   "metadata": {},
   "outputs": [],
   "source": [
    "def oldest_person(names, ages):\n",
    "    max_age = 0\n",
    "    max_name = ''\n",
    "    \n",
    "    for name, age in zip(names, ages): \n",
    "        if age > max_age:\n",
    "            max_name = name\n",
    "            max_age = age\n",
    "    \n",
    "    return max_name, max_age"
   ]
  },
  {
   "cell_type": "code",
   "execution_count": 45,
   "metadata": {},
   "outputs": [
    {
     "name": "stdout",
     "output_type": "stream",
     "text": [
      "Die älteste Person heißt Bill und ist 62 Jahre alt.\n"
     ]
    }
   ],
   "source": [
    "name, age = oldest_person(names, ages)\n",
    "print(f'Die älteste Person heißt {name} und ist {age} Jahre alt.')"
   ]
  },
  {
   "cell_type": "code",
   "execution_count": 65,
   "metadata": {},
   "outputs": [
    {
     "data": {
      "text/plain": [
       "59049"
      ]
     },
     "execution_count": 65,
     "metadata": {},
     "output_type": "execute_result"
    }
   ],
   "source": [
    "def power(x, y):\n",
    "    return int(x**y)\n",
    "\n",
    "r = power(3, 10)\n",
    "r"
   ]
  },
  {
   "cell_type": "code",
   "execution_count": 66,
   "metadata": {},
   "outputs": [
    {
     "data": {
      "text/plain": [
       "[1, 8, 27, 64, 125, 216, 343, 512, 729, 1000]"
      ]
     },
     "execution_count": 66,
     "metadata": {},
     "output_type": "execute_result"
    }
   ],
   "source": [
    "list_1 = [1, 2, 3, 4, 5, 6, 7, 8, 9, 10]\n",
    "temp_list = []\n",
    "for elem in list_1:\n",
    "    neu_elem = elem**3\n",
    "    temp_list.append(neu_elem)\n",
    "temp_list"
   ]
  },
  {
   "cell_type": "markdown",
   "metadata": {},
   "source": [
    "### Aufgabe 8: Funktionen\n",
    "\n",
    "Programmieren Sie eine Funktion ``parse_params()``. Diese Funtion muss als seine Argumente 2 Listen übernehmen. \n",
    "\n",
    "Erste (verschachtelte) Liste beinhält aktuellen Interface-Konfigurationen und jedes Element in der Liste ist eine kleine Liste mit Interface-Parameter.\n",
    "\n",
    "Zweite Liste hat Beschreibungen was bei jedem Interface entsprechendes Parameter in der kleiner Liste bedeutet. "
   ]
  },
  {
   "cell_type": "code",
   "execution_count": 106,
   "metadata": {},
   "outputs": [],
   "source": [
    "parameter = [\"name\", \"ip\", \"sm\", \"descr\", \"status\"]\n",
    "phys_interfaces = [\n",
    "    [\"gi0/0\", \"10.0.0.1\", \"255.255.255.0\", \"Lan 1\", \"up\"],\n",
    "    [\"gi0/1\", \"10.0.1.1\", \"255.255.255.0\", \"DMZ\", \"down\"],\n",
    "    [\"gi0/2\", \"10.0.2.1\", \"255.255.255.0\", \"Intern\", \"up\"],\n",
    "    [\"gi0/3\", \"10.0.3.1\", \"255.255.255.0\", \"Cloud\", \"up\"],\n",
    "]\n",
    "logical_interfaces = [\n",
    "    [\"Tu0\", \"150.0.0.1\", \"255.255.255.0\", \"Tunnel Standort MUC\", \"up\"],\n",
    "    [\"Lo0\", \"10.10.1.1\", \"255.255.255.0\", \"Loopback\", \"up\"],\n",
    "    [\"Null0\", \"10.10.0.0\", \"255.255.255.0\", \"Mülltonne\", \"up\"],\n",
    "]"
   ]
  },
  {
   "cell_type": "markdown",
   "metadata": {},
   "source": [
    "Funktion ``parse_params()`` muss ein Disctionary zurückgeben, in dem:\n",
    "\n",
    "Interface-Name ein key ist und\n",
    "\n",
    "\n",
    "Aus dem Listenelement \\[\"gi0/0\", \"10.0.0.1\", \"255.255.255.0\", \"Lan 1\", \"up\"\\] müsste folgendes Dictionaryelement erzeugt:\n",
    "```\n",
    "...\n",
    "{\"gi0/0\":\n",
    "  {\n",
    "    \"ip\": \"10.0.0.1\",\n",
    "    \"sm\": \"255.255.255.0\",\n",
    "    \"descr\": \"Lan 1\",\n",
    "    \"status\": \"up\"\n",
    "  }\n",
    "}\n",
    "...\n",
    "```"
   ]
  },
  {
   "cell_type": "code",
   "execution_count": null,
   "metadata": {},
   "outputs": [],
   "source": []
  },
  {
   "cell_type": "code",
   "execution_count": null,
   "metadata": {},
   "outputs": [],
   "source": []
  },
  {
   "cell_type": "markdown",
   "metadata": {},
   "source": [
    "\n",
    "#### Extra: List comprehensions\n",
    "\n",
    "Eine besondere Kombination aus Kontrollstruktur und Datentyp sind [**List comprehensions**](https://docs.python.org/2/tutorial/datastructures.html#list-comprehensions). Hier werden tief in der Sprache verankerte, extrem effiziente Mechanismen genutzt, um existierende Listen zu bearbeiten und neue Listen zu erzeugen. \n",
    "\n",
    "Ein Beispiel zeigt am Besten wie es geht: Aus einer Liste mit allen Zahlen von 0 bis 10000 sollen die geraden Zahlen quadriert und in eine neue Liste geschrieben werden."
   ]
  },
  {
   "cell_type": "code",
   "execution_count": 48,
   "metadata": {},
   "outputs": [
    {
     "data": {
      "text/plain": [
       "[1, 4, 7]"
      ]
     },
     "execution_count": 48,
     "metadata": {},
     "output_type": "execute_result"
    }
   ],
   "source": [
    "list(range(1, 10, 3))"
   ]
  },
  {
   "cell_type": "code",
   "execution_count": 49,
   "metadata": {},
   "outputs": [
    {
     "data": {
      "text/plain": [
       "[0, 1, 2, 3, 4, 5, 6, 7, 8, 9, 10, 11, 12, 13, 14, 15, 16, 17, 18, 19]"
      ]
     },
     "execution_count": 49,
     "metadata": {},
     "output_type": "execute_result"
    }
   ],
   "source": [
    "my_list = list(range(0, 10000, 1))  # Eine Liste mit allen Zahlen von 0 bis 9999\n",
    "my_list[:20]"
   ]
  },
  {
   "cell_type": "code",
   "execution_count": 70,
   "metadata": {},
   "outputs": [
    {
     "name": "stdout",
     "output_type": "stream",
     "text": [
      "[0, 4, 16, 36, 64, 100, 144, 196, 256, 324, 400, 484, 576, 676, 784, 900, 1024, 1156, 1296, 1444]\n"
     ]
    }
   ],
   "source": [
    "new_list_klassisch = []\n",
    "\n",
    "for item in my_list:\n",
    "    if item % 2 == 0:  # modulo 2\n",
    "        new_list_klassisch.append(item * item)\n",
    "print(new_list_klassisch[:20])"
   ]
  },
  {
   "cell_type": "code",
   "execution_count": 73,
   "metadata": {},
   "outputs": [
    {
     "name": "stdout",
     "output_type": "stream",
     "text": [
      "[0, 4, 16, 36, 64, 100, 144, 196, 256, 324, 400, 484, 576, 676, 784, 900, 1024, 1156, 1296, 1444]\n"
     ]
    }
   ],
   "source": [
    "new_list_comprehension = [item * item for item in range(10000) if item % 2 == 0]\n",
    "print(new_list_comprehension[:20])"
   ]
  },
  {
   "cell_type": "code",
   "execution_count": null,
   "metadata": {},
   "outputs": [],
   "source": []
  }
 ],
 "metadata": {
  "kernelspec": {
   "display_name": "Python 3 (ipykernel)",
   "language": "python",
   "name": "python3"
  },
  "language_info": {
   "codemirror_mode": {
    "name": "ipython",
    "version": 3
   },
   "file_extension": ".py",
   "mimetype": "text/x-python",
   "name": "python",
   "nbconvert_exporter": "python",
   "pygments_lexer": "ipython3",
   "version": "3.10.8"
  },
  "varInspector": {
   "cols": {
    "lenName": 16,
    "lenType": 16,
    "lenVar": 40
   },
   "kernels_config": {
    "python": {
     "delete_cmd_postfix": "",
     "delete_cmd_prefix": "del ",
     "library": "var_list.py",
     "varRefreshCmd": "print(var_dic_list())"
    },
    "r": {
     "delete_cmd_postfix": ") ",
     "delete_cmd_prefix": "rm(",
     "library": "var_list.r",
     "varRefreshCmd": "cat(var_dic_list()) "
    }
   },
   "types_to_exclude": [
    "module",
    "function",
    "builtin_function_or_method",
    "instance",
    "_Feature"
   ],
   "window_display": false
  }
 },
 "nbformat": 4,
 "nbformat_minor": 2
}
