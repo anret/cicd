{
 "cells": [
  {
   "cell_type": "markdown",
   "metadata": {},
   "source": [
    "# Python\n",
    "\n",
    "[**Python**](https://www.python.org/) ist eine Programmiersprache. Sie ist sehr gut für den Einstieg in die Programmierung geeignet. Python besitzt eine umfrangreiche Standardbibliothek und wird von einer aktiven Community gepflegt und ständig weiterentwickelt. \n",
    "\n",
    "Aufgrund ihrer Einfachheit und da es sich um eine interpretierte (gegenüber einer kompilierten) Sprache handelt, wird sie oft als Skriptsprache genutzt. Python unterstützt aber ebenso andere Programmierparadigmen, wie z.B. objektorientierte oder funktionale Programmierung.\n",
    "\n",
    "Sowohl in der Wissenschaft als auch in der Wirtschaft hat sich Python mittlerweile zu einer der beliebtesten Programmiersprachen entwickelt. Ein reiches Ökosystem von Drittbibliotheken für numerische Berechnungen, statistische Verfahren und zur Datenvisualisierung macht Python zu einem mächtigen Werkzeug für die Datenanalyse."
   ]
  },
  {
   "cell_type": "markdown",
   "metadata": {},
   "source": [
    "### Python 2 oder Python 3?\n",
    "\n",
    "Aus Gründen, auf die wir hier nicht näher eingehen wollen, gibt es in Python neben der aktuellen Version 3 auch noch viele Bibliotheken, die nur in der Python Version 2 unterstützen.\n",
    "\n",
    "In diesem Kurs nutzen wir durchgängig die Version **Python 3.8+**."
   ]
  },
  {
   "cell_type": "markdown",
   "metadata": {},
   "source": [
    "## Einstieg in die Programmierung mit Python\n",
    "\n",
    "In diesem Kurs werden wir immer wieder kleine oder auch größere Beispiele in Python programmieren. Deshalb wollen wir jetzt einige Grundlagen der Sprache kurz einführen bzw. wiederholen."
   ]
  },
  {
   "cell_type": "markdown",
   "metadata": {},
   "source": [
    "### Kommentare\n",
    "\n",
    "Kommentare im Code werden vom Python-Interpreter ignoriert. Kommentare werden mit einem **`#`** eingeleitet."
   ]
  },
  {
   "cell_type": "code",
   "execution_count": 11,
   "metadata": {},
   "outputs": [
    {
     "data": {
      "text/plain": [
       "str"
      ]
     },
     "execution_count": 11,
     "metadata": {},
     "output_type": "execute_result"
    }
   ],
   "source": [
    "a = 42 # Dies ist ein einzeiliger Kommentar\n",
    "type(a)\n",
    "a = 'Text'\n",
    "type(a)"
   ]
  },
  {
   "cell_type": "markdown",
   "metadata": {},
   "source": [
    "### Variablen\n",
    "\n",
    "Variablen können einfach angelegt werden. Python nutzt eine sogennante **dynamische Typisierung**, d.h. der Variablentyp wird nicht explizit angegeben. Grundsätzlich kann eine Variable jeden Datentyp aufnehmen."
   ]
  },
  {
   "cell_type": "code",
   "execution_count": 12,
   "metadata": {},
   "outputs": [],
   "source": [
    "n = 3  # Eine Integer-Variable\n",
    "s = 'python'  # Eine String-Variable\n",
    "f = 12.34  # Eine Float-Variable\n",
    "\n",
    "\n",
    "st = \"python2\""
   ]
  },
  {
   "cell_type": "code",
   "execution_count": 14,
   "metadata": {},
   "outputs": [
    {
     "name": "stdout",
     "output_type": "stream",
     "text": [
      "<class 'int'> <class 'str'> <class 'float'>\n"
     ]
    },
    {
     "data": {
      "text/plain": [
       "6"
      ]
     },
     "execution_count": 14,
     "metadata": {},
     "output_type": "execute_result"
    }
   ],
   "source": [
    "print(type(n), type(s), type(f))\n",
    "\n",
    "\n",
    "type(st)\n",
    "len(s)"
   ]
  },
  {
   "cell_type": "markdown",
   "metadata": {},
   "source": [
    "Variablen können z.B. für einfache arithmetische Operationen genutzt werden."
   ]
  },
  {
   "cell_type": "code",
   "execution_count": 15,
   "metadata": {},
   "outputs": [
    {
     "name": "stdout",
     "output_type": "stream",
     "text": [
      "2 15 1.6666666666666667 1 2\n"
     ]
    },
    {
     "data": {
      "text/plain": [
       "2"
      ]
     },
     "execution_count": 15,
     "metadata": {},
     "output_type": "execute_result"
    }
   ],
   "source": [
    "a = 5\n",
    "b = 3\n",
    "c = a + b\n",
    "\n",
    "print(a-b, a*b, a/b, a//b, a%b)\n",
    "a%b"
   ]
  },
  {
   "cell_type": "code",
   "execution_count": 16,
   "metadata": {},
   "outputs": [
    {
     "name": "stdout",
     "output_type": "stream",
     "text": [
      "5.///.3.///.8\n",
      "5 3 8\n"
     ]
    }
   ],
   "source": [
    "print(a, b, c, sep='.///.')\n",
    "print(a,b,c)"
   ]
  },
  {
   "cell_type": "code",
   "execution_count": 17,
   "metadata": {},
   "outputs": [
    {
     "name": "stdout",
     "output_type": "stream",
     "text": [
      "Die Summe von 5 und 3 ist 8.\n",
      "Die Summe von 5 und 3 ist 8.\n",
      "Die Summe von 5 und 3 ist 8.\n"
     ]
    }
   ],
   "source": [
    "# c = texting\n",
    "print(f'Die Summe von {a} und {b} ist {c}.')\n",
    "\n",
    "print('Die Summe von {} und {} ist {}.'.format(a, b, c))\n",
    "\n",
    "print('Die Summe von %d und %d ist %d.' % (a, b, c))"
   ]
  },
  {
   "cell_type": "markdown",
   "metadata": {},
   "source": [
    "### Listen\n",
    "\n",
    "[**Listen**](https://docs.python.org/3/tutorial/datastructures.html) sind ein spezieller Variablen-Typ. Sie enthalten, wie der Name schon vermuten lässt, eine Liste von weiteren Variablen."
   ]
  },
  {
   "cell_type": "code",
   "execution_count": 20,
   "metadata": {},
   "outputs": [
    {
     "name": "stdout",
     "output_type": "stream",
     "text": [
      "Melissa Melissa 40\n",
      "6\n"
     ]
    },
    {
     "data": {
      "text/plain": [
       "2"
      ]
     },
     "execution_count": 20,
     "metadata": {},
     "output_type": "execute_result"
    }
   ],
   "source": [
    "names = ['Tim', 'Elon', 'Jenny', 'Bill', 'Melanie', 'Melissa']  # Eine Liste mit Namen als String\n",
    "ages = [19, 37, 40, 62, 31, 33]  # Eine Liste mit Zahlen als Integer\n",
    "print(names[-1], names[(len(names)-1)], ages[2])\n",
    "\n",
    "mixed = [1, [1,2], 'Anton', {1:1}]\n",
    "print(len(names))\n",
    "mixed[1][1]"
   ]
  },
  {
   "cell_type": "code",
   "execution_count": 21,
   "metadata": {},
   "outputs": [
    {
     "data": {
      "text/plain": [
       "['Tim', 'Melissa', 'Melanie', 'Jenny', 'Elon', 'Bill']"
      ]
     },
     "execution_count": 21,
     "metadata": {},
     "output_type": "execute_result"
    }
   ],
   "source": [
    "sorted(names, reverse=True)"
   ]
  },
  {
   "cell_type": "code",
   "execution_count": 22,
   "metadata": {},
   "outputs": [
    {
     "data": {
      "text/plain": [
       "222"
      ]
     },
     "execution_count": 22,
     "metadata": {},
     "output_type": "execute_result"
    }
   ],
   "source": [
    "sum(ages)"
   ]
  },
  {
   "cell_type": "code",
   "execution_count": 23,
   "metadata": {},
   "outputs": [
    {
     "data": {
      "text/plain": [
       "[19, 31, 33, 37, 40, 62]"
      ]
     },
     "execution_count": 23,
     "metadata": {},
     "output_type": "execute_result"
    }
   ],
   "source": [
    "sorted(ages)"
   ]
  },
  {
   "cell_type": "code",
   "execution_count": 24,
   "metadata": {},
   "outputs": [
    {
     "data": {
      "text/plain": [
       "'Tim?Elon?Jenny?Bill?Melanie?Melissa'"
      ]
     },
     "execution_count": 24,
     "metadata": {},
     "output_type": "execute_result"
    }
   ],
   "source": [
    "'?'.join(names) #Alle Einträge werden mit einem Komma verbunden"
   ]
  },
  {
   "cell_type": "code",
   "execution_count": 25,
   "metadata": {},
   "outputs": [
    {
     "name": "stdout",
     "output_type": "stream",
     "text": [
      "Das mittlere Alter beträgt 37.0 Jahre.\n"
     ]
    }
   ],
   "source": [
    "avg_age = sum(ages) / len(ages)\n",
    "print(f'Das mittlere Alter beträgt {avg_age} Jahre.')"
   ]
  },
  {
   "cell_type": "markdown",
   "metadata": {},
   "source": [
    "Listen können verschachtelt angelegt werden. Dabei müssen die Typen der einzelnen Einträge nicht identisch sein."
   ]
  },
  {
   "cell_type": "code",
   "execution_count": 27,
   "metadata": {},
   "outputs": [
    {
     "data": {
      "text/plain": [
       "3"
      ]
     },
     "execution_count": 27,
     "metadata": {},
     "output_type": "execute_result"
    }
   ],
   "source": [
    "l2 = [6, [1, 2.67, 3], 'python', ['a', 'b']]\n",
    "\n",
    "l2[1][2]\n",
    "\n"
   ]
  },
  {
   "cell_type": "markdown",
   "metadata": {},
   "source": [
    "### Dictionaries\n",
    "\n",
    "Eine weitere sehr gebräuchliche und nützliche Datenstruktur sind [**Dictionaries**](https://docs.python.org/2/tutorial/datastructures.html#dictionaries). Sie ordnen jeweils einem Schlüssel (**_key_**) einen Wert (**_value_**) zu. Dictionaries können ebenfalls verschachtelt angelegt werden."
   ]
  },
  {
   "cell_type": "code",
   "execution_count": 30,
   "metadata": {},
   "outputs": [
    {
     "data": {
      "text/plain": [
       "{'a': 12, 'b': 2}"
      ]
     },
     "execution_count": 30,
     "metadata": {},
     "output_type": "execute_result"
    }
   ],
   "source": [
    "{'a': 1, 'b': 2, 'a': 12}"
   ]
  },
  {
   "cell_type": "code",
   "execution_count": 60,
   "metadata": {},
   "outputs": [],
   "source": [
    "d = {'python': 3.6, 62: 'Bill'}"
   ]
  },
  {
   "cell_type": "code",
   "execution_count": 61,
   "metadata": {},
   "outputs": [
    {
     "data": {
      "text/plain": [
       "3.6"
      ]
     },
     "execution_count": 61,
     "metadata": {},
     "output_type": "execute_result"
    }
   ],
   "source": [
    "d['python']"
   ]
  },
  {
   "cell_type": "code",
   "execution_count": 62,
   "metadata": {},
   "outputs": [
    {
     "data": {
      "text/plain": [
       "'Bill'"
      ]
     },
     "execution_count": 62,
     "metadata": {},
     "output_type": "execute_result"
    }
   ],
   "source": [
    "d[62]"
   ]
  },
  {
   "cell_type": "code",
   "execution_count": 26,
   "metadata": {},
   "outputs": [
    {
     "data": {
      "text/plain": [
       "3"
      ]
     },
     "execution_count": 26,
     "metadata": {},
     "output_type": "execute_result"
    }
   ],
   "source": [
    "d = {'a': {'b': 1, 'c': 3}, \"d\": 42}\n",
    "d[\"a\"][\"c\"]"
   ]
  },
  {
   "cell_type": "code",
   "execution_count": null,
   "metadata": {},
   "outputs": [],
   "source": []
  },
  {
   "cell_type": "code",
   "execution_count": 39,
   "metadata": {},
   "outputs": [
    {
     "name": "stdout",
     "output_type": "stream",
     "text": [
      "Das Ergebnis lautet: 1899.828\n",
      "Das Ergebnis lautet: 1899.828\n",
      "44\n"
     ]
    },
    {
     "data": {
      "text/plain": [
       "list"
      ]
     },
     "execution_count": 39,
     "metadata": {},
     "output_type": "execute_result"
    }
   ],
   "source": [
    "# Probieren Sie Variablen, Listen und Dictionaries einmal selber aus\n",
    "a = 42\n",
    "b = 45.234\n",
    "c = a * b\n",
    "print(\"Das Ergebnis lautet: {}\".format(c))\n",
    "print(f\"Das Ergebnis lautet: {c}\")\n",
    "\n",
    "\n",
    "alter = [44, 22, 33]\n",
    "print(max(alter))\n",
    "type(alter)\n",
    "#print(sorted(alter))\n",
    "\n",
    "\n",
    "\n",
    "\n",
    "\n",
    "\n",
    "\n"
   ]
  },
  {
   "cell_type": "code",
   "execution_count": 71,
   "metadata": {},
   "outputs": [
    {
     "ename": "NameError",
     "evalue": "name 'l3' is not defined",
     "output_type": "error",
     "traceback": [
      "\u001b[0;31m---------------------------------------------------------------------------\u001b[0m",
      "\u001b[0;31mNameError\u001b[0m                                 Traceback (most recent call last)",
      "\u001b[0;32m<ipython-input-71-b8fff4990345>\u001b[0m in \u001b[0;36m<module>\u001b[0;34m\u001b[0m\n\u001b[0;32m----> 1\u001b[0;31m \u001b[0ml3\u001b[0m\u001b[0;34m\u001b[0m\u001b[0;34m\u001b[0m\u001b[0m\n\u001b[0m",
      "\u001b[0;31mNameError\u001b[0m: name 'l3' is not defined"
     ]
    }
   ],
   "source": [
    "l3"
   ]
  },
  {
   "cell_type": "markdown",
   "metadata": {},
   "source": [
    "### Kontrollstrukturen\n",
    "\n",
    "So weit so gut, aber um wirklich etwas sinnvolles zu tun, brauchen wir verschiedene Kontrollstrukturen.\n",
    "\n",
    "#### Einschub: Syntax\n",
    "\n",
    "Im Gegensatz zu vielen anderen Programmiersprachen, in denen Leerzeichen durch den Compiler oder Interpreter ignoriert werden, spielen diese in Python in der Sprachsyntax eine große Rolle. \n",
    "\n",
    "Wie wir in den folgenden Beispielen sehen, werden die Zeilen innerhalb der Kontrollstrukturen eingerückt. Diese Einrückung von 4 Leerzeichen ist wichtig, da sonst der Code nicht interpretiert werden kann. Die Fehlermeldung sieht dann so ähnlich aus wie:\n",
    "\n",
    "```python\n",
    "  File \"<ipython-input-4-7de823a6cc3a>\", line 2\n",
    "    ...<some code>\n",
    "        ^\n",
    "IndentationError: expected an indented block\n",
    "```\n",
    "\n",
    "#### Der for-Loop"
   ]
  },
  {
   "cell_type": "code",
   "execution_count": 32,
   "metadata": {},
   "outputs": [
    {
     "name": "stdout",
     "output_type": "stream",
     "text": [
      "<class 'list'>\n"
     ]
    },
    {
     "data": {
      "text/plain": [
       "['Tim', 'Elon', 'Jenny', 'Bill', 'Melanie', 'Melissa']"
      ]
     },
     "execution_count": 32,
     "metadata": {},
     "output_type": "execute_result"
    }
   ],
   "source": [
    "print(type(names))\n",
    "names\n",
    "liste_neu=[]\n",
    "names"
   ]
  },
  {
   "cell_type": "code",
   "execution_count": 37,
   "metadata": {},
   "outputs": [
    {
     "data": {
      "text/plain": [
       "['Tim', 'Elon', 'Jenny', 'Bill', 'Melanie', 'Melissa']"
      ]
     },
     "execution_count": 37,
     "metadata": {},
     "output_type": "execute_result"
    }
   ],
   "source": [
    "names"
   ]
  },
  {
   "cell_type": "code",
   "execution_count": 27,
   "metadata": {},
   "outputs": [
    {
     "name": "stdout",
     "output_type": "stream",
     "text": [
      "Tim\n",
      "Elon\n",
      "Jenny\n",
      "Bill\n",
      "Melanie\n",
      "Melissa\n",
      "['Tim', 'Elon', 'Jenny', 'Bill', 'Melanie', 'Melissa']\n"
     ]
    },
    {
     "data": {
      "text/plain": [
       "['Tim', 'Elon', 'Jenny', 'Bill', 'Melanie', 'Melissa']"
      ]
     },
     "execution_count": 27,
     "metadata": {},
     "output_type": "execute_result"
    }
   ],
   "source": [
    "# Eintrag nach Eintrag\n",
    "liste_neu = []\n",
    "for name in names:\n",
    "    liste_neu.append(name)   \n",
    "    print(name)\n",
    "\n",
    "print(names)\n",
    "liste_neu"
   ]
  },
  {
   "cell_type": "code",
   "execution_count": 28,
   "metadata": {},
   "outputs": [
    {
     "name": "stdout",
     "output_type": "stream",
     "text": [
      "['Tim', 'Elon', 'Jenny', 'Bill', 'Melanie', 'Melissa']\n"
     ]
    },
    {
     "data": {
      "text/plain": [
       "['Tim', 'Elon', 'Jenny', 'Bill', 'Melanie', 'Melissa']"
      ]
     },
     "execution_count": 28,
     "metadata": {},
     "output_type": "execute_result"
    }
   ],
   "source": [
    "while_list = []\n",
    "i = 0\n",
    "while i < len(names):\n",
    "    while_list.append(names[i])\n",
    "    i += 1\n",
    "    \n",
    "print(names)\n",
    "while_list"
   ]
  },
  {
   "cell_type": "code",
   "execution_count": 30,
   "metadata": {},
   "outputs": [
    {
     "data": {
      "text/plain": [
       "<enumerate at 0x7f28d913a798>"
      ]
     },
     "execution_count": 30,
     "metadata": {},
     "output_type": "execute_result"
    }
   ],
   "source": [
    "enumerate(names)"
   ]
  },
  {
   "cell_type": "code",
   "execution_count": 33,
   "metadata": {},
   "outputs": [
    {
     "name": "stdout",
     "output_type": "stream",
     "text": [
      "Tim ist an Position 1.\n",
      "Elon ist an Position 2.\n",
      "Jenny ist an Position 3.\n",
      "Bill ist an Position 4.\n",
      "Melanie ist an Position 5.\n",
      "Melissa ist an Position 6.\n"
     ]
    }
   ],
   "source": [
    "# Eintrag nach Eintrag mit Zählindex\n",
    "for idx, name in enumerate(names):\n",
    "    print(f'{name} ist an Position {idx+1}.')"
   ]
  },
  {
   "cell_type": "markdown",
   "metadata": {},
   "source": []
  },
  {
   "cell_type": "code",
   "execution_count": 37,
   "metadata": {},
   "outputs": [
    {
     "name": "stdout",
     "output_type": "stream",
     "text": [
      "['Bill', 'Elon', 'Jenny', 'Melanie', 'Melissa', 'Tim']\n",
      "[19, 37, 40, 62, 31, 33]\n"
     ]
    },
    {
     "data": {
      "text/plain": [
       "{'Bill': 19, 'Elon': 37, 'Jenny': 40, 'Melanie': 62, 'Melissa': 31, 'Tim': 33}"
      ]
     },
     "execution_count": 37,
     "metadata": {},
     "output_type": "execute_result"
    }
   ],
   "source": [
    "names, ages\n",
    "#name_age = dict(zip(names, ages))\n",
    "#name_age_dict = dict(zip(names, ages))\n",
    "names.sort()\n",
    "# sorted(names)\n",
    "print(names)\n",
    "print(ages)\n",
    "#print(name_age)\n",
    "#print(name_age_dict)\n",
    "\n",
    "dict(zip(names,ages))"
   ]
  },
  {
   "cell_type": "markdown",
   "metadata": {},
   "source": [
    "**Wichtig:** Listen sowie andere Datenstrukturen in Python beginnen immer mit Position bzw. Index 0!"
   ]
  },
  {
   "cell_type": "code",
   "execution_count": 38,
   "metadata": {},
   "outputs": [
    {
     "data": {
      "text/plain": [
       "{19: 'Bill', 37: 'Elon', 40: 'Jenny', 62: 'Melanie', 31: 'Melissa', 33: 'Tim'}"
      ]
     },
     "execution_count": 38,
     "metadata": {},
     "output_type": "execute_result"
    }
   ],
   "source": [
    "n = zip(ages, names)\n",
    "dict(n)"
   ]
  },
  {
   "cell_type": "code",
   "execution_count": 39,
   "metadata": {},
   "outputs": [
    {
     "name": "stdout",
     "output_type": "stream",
     "text": [
      "Bill ist 19 Jahre alt.\n",
      "Elon ist 37 Jahre alt.\n",
      "Jenny ist 40 Jahre alt.\n",
      "Melanie ist 62 Jahre alt.\n",
      "Melissa ist 31 Jahre alt.\n",
      "Tim ist 33 Jahre alt.\n"
     ]
    }
   ],
   "source": [
    "# Eintrag nach Eintrag von mehreren Listen\n",
    "for age, name in zip(ages, names):\n",
    "    print(f'{name} ist {age} Jahre alt.')"
   ]
  },
  {
   "cell_type": "markdown",
   "metadata": {},
   "source": [
    "#### Das if-Statement\n",
    "\n",
    "Für logische Abfragen und Vergleiche gibt es auch in Python eine **if ... else** Kontrollstruktur. Sie funktioniert sowohl mit beiden vordefinierten boolschen Zuständen **`True`** und **`False`** als auch für Wertvergleiche etc.\n",
    "\n",
    "Im Hinterkopf sollte man immer behalten, dass z.B. eine leere Liste `[]`, ein leeres Dictionary `{}`, oder die Ziffer `0` als `False` gewertet werden. "
   ]
  },
  {
   "cell_type": "code",
   "execution_count": 42,
   "metadata": {},
   "outputs": [
    {
     "name": "stdout",
     "output_type": "stream",
     "text": [
      "ROT ROT\n",
      "True\n",
      "False\n"
     ]
    },
    {
     "data": {
      "text/plain": [
       "(True, True, True)"
      ]
     },
     "execution_count": 42,
     "metadata": {},
     "output_type": "execute_result"
    }
   ],
   "source": [
    "color_one = 'rot'.upper()\n",
    "color_two = 'rOt'.upper()\n",
    "print(color_one, color_two)\n",
    "print(color_one == color_two)\n",
    "a = 1\n",
    "b = 2\n",
    "print(a == b)\n",
    "a < b, b >= a, a != b"
   ]
  },
  {
   "cell_type": "code",
   "execution_count": 47,
   "metadata": {},
   "outputs": [
    {
     "name": "stdout",
     "output_type": "stream",
     "text": [
      "<class 'bool'>\n"
     ]
    },
    {
     "data": {
      "text/plain": [
       "True"
      ]
     },
     "execution_count": 47,
     "metadata": {},
     "output_type": "execute_result"
    }
   ],
   "source": [
    "color_one = 'red'\n",
    "color_two = 'red'\n",
    "\n",
    "is_same = color_one == color_two\n",
    "#wahr = True\n",
    "#falsch = False\n",
    "3 < 4\n",
    "print(type(is_same))\n",
    "is_same"
   ]
  },
  {
   "cell_type": "code",
   "execution_count": 49,
   "metadata": {},
   "outputs": [
    {
     "name": "stdout",
     "output_type": "stream",
     "text": [
      "Die Farben sind gleich.\n",
      "Nach IF\n"
     ]
    }
   ],
   "source": [
    "if color_one == color_two:\n",
    "    print('Die Farben sind gleich.')\n",
    "else:\n",
    "    print('Die Farben sind unterschiedlich.')\n",
    "print('Nach IF')"
   ]
  },
  {
   "cell_type": "code",
   "execution_count": 68,
   "metadata": {},
   "outputs": [],
   "source": [
    "if not is_same:  # Der eigentliche Vergleich wurde in der Variable `is_same` gespeichert. Negieren ist möglich.\n",
    "    print('Die Farben sind unterschiedlich.')"
   ]
  },
  {
   "cell_type": "markdown",
   "metadata": {},
   "source": [
    "#### Funktionen\n",
    "\n",
    "Wiederkehrende Codefragmente können und sollten zur Übersichtlichkeit, zur Wiederverwendbarkeit und zur Pflege des Codes in eigenständige Funktionen ausgelagert werden.\n",
    "\n",
    "Einer Python-Funktion können Werte übergeben werden und sie kann Werte zurückgeben. Wie wir sehen werden, gibt es aber auch Funktionen, die weder das eine noch andere beinhalten."
   ]
  },
  {
   "cell_type": "code",
   "execution_count": 51,
   "metadata": {},
   "outputs": [],
   "source": [
    "def compare_colors(c_1, c_2):\n",
    "    if c_1 == c_2:\n",
    "        print('Die Farben sind gleich')\n",
    "    else:\n",
    "        print('Die Farben sind unterschiedlich')"
   ]
  },
  {
   "cell_type": "code",
   "execution_count": 54,
   "metadata": {},
   "outputs": [
    {
     "name": "stdout",
     "output_type": "stream",
     "text": [
      "Die Farben sind unterschiedlich\n"
     ]
    }
   ],
   "source": [
    "compare_colors('green', 'red')"
   ]
  },
  {
   "cell_type": "code",
   "execution_count": 55,
   "metadata": {},
   "outputs": [
    {
     "name": "stdout",
     "output_type": "stream",
     "text": [
      "Die Farben sind gleich\n"
     ]
    }
   ],
   "source": [
    "compare_colors('yellow', 'yellow')"
   ]
  },
  {
   "cell_type": "code",
   "execution_count": 57,
   "metadata": {},
   "outputs": [],
   "source": [
    "def addition(n, m):\n",
    "    return n + m"
   ]
  },
  {
   "cell_type": "code",
   "execution_count": 58,
   "metadata": {},
   "outputs": [
    {
     "name": "stdout",
     "output_type": "stream",
     "text": [
      "Die Farben sind gleich\n",
      "42\n",
      "None\n"
     ]
    }
   ],
   "source": [
    "ergebnis = addition(12, 30)\n",
    "farb_ergebnis = compare_colors(\"green\", \"green\")\n",
    "print(ergebnis)\n",
    "print(farb_ergebnis)"
   ]
  },
  {
   "cell_type": "code",
   "execution_count": 59,
   "metadata": {},
   "outputs": [],
   "source": [
    "def oldest_person(names, ages):\n",
    "    max_age = 0\n",
    "    max_name = ''\n",
    "    \n",
    "    for name, age in zip(names, ages): \n",
    "        if age > max_age:\n",
    "            max_name = name\n",
    "            max_age = age\n",
    "    \n",
    "    return max_name, max_age"
   ]
  },
  {
   "cell_type": "code",
   "execution_count": 61,
   "metadata": {},
   "outputs": [
    {
     "name": "stdout",
     "output_type": "stream",
     "text": [
      "Die älteste Person heißt Melanie und ist 62 Jahre alt.\n"
     ]
    }
   ],
   "source": [
    "name, age = oldest_person(names, ages)\n",
    "print(f'Die älteste Person heißt {name} und ist {age} Jahre alt.')"
   ]
  },
  {
   "cell_type": "code",
   "execution_count": 64,
   "metadata": {},
   "outputs": [
    {
     "data": {
      "text/plain": [
       "59049"
      ]
     },
     "execution_count": 64,
     "metadata": {},
     "output_type": "execute_result"
    }
   ],
   "source": [
    "#(lambda x, y: x**y)(2, 10)\n",
    "\n",
    "\n",
    "\n",
    "(lambda x, y: x**y)(3,10)"
   ]
  },
  {
   "cell_type": "code",
   "execution_count": 65,
   "metadata": {},
   "outputs": [
    {
     "data": {
      "text/plain": [
       "59049"
      ]
     },
     "execution_count": 65,
     "metadata": {},
     "output_type": "execute_result"
    }
   ],
   "source": [
    "def power(x, y):\n",
    "    return int(x**y)\n",
    "\n",
    "r = power(3, 10)\n",
    "r"
   ]
  },
  {
   "cell_type": "code",
   "execution_count": 74,
   "metadata": {},
   "outputs": [
    {
     "name": "stdout",
     "output_type": "stream",
     "text": [
      "1024\n"
     ]
    }
   ],
   "source": [
    "print (r)"
   ]
  },
  {
   "cell_type": "code",
   "execution_count": 66,
   "metadata": {},
   "outputs": [
    {
     "data": {
      "text/plain": [
       "[1, 8, 27, 64, 125, 216, 343, 512, 729, 1000]"
      ]
     },
     "execution_count": 66,
     "metadata": {},
     "output_type": "execute_result"
    }
   ],
   "source": [
    "list_1 = [1, 2, 3, 4, 5, 6, 7, 8, 9, 10]\n",
    "temp_list = []\n",
    "for elem in list_1:\n",
    "    neu_elem = elem**3\n",
    "    temp_list.append(neu_elem)\n",
    "temp_list"
   ]
  },
  {
   "cell_type": "code",
   "execution_count": 68,
   "metadata": {},
   "outputs": [
    {
     "name": "stdout",
     "output_type": "stream",
     "text": [
      "[19, 37, 40, 62, 31, 33]\n"
     ]
    },
    {
     "data": {
      "text/plain": [
       "[6859, 50653, 64000, 238328, 29791, 35937]"
      ]
     },
     "execution_count": 68,
     "metadata": {},
     "output_type": "execute_result"
    }
   ],
   "source": [
    "list_1 = [1, 2, 3, 4, 5, 6, 7, 8, 9, 10]\n",
    "print(ages)\n",
    "temp_list = list(map(lambda x: x**3, ages))\n",
    "temp_list"
   ]
  },
  {
   "cell_type": "markdown",
   "metadata": {},
   "source": [
    "\n",
    "#### Extra: List comprehensions\n",
    "\n",
    "Eine besondere Kombination aus Kontrollstruktur und Datentyp sind [**List comprehensions**](https://docs.python.org/2/tutorial/datastructures.html#list-comprehensions). Hier werden tief in der Sprache verankerte, extrem effiziente Mechanismen genutzt, um existierende Listen zu bearbeiten und neue Listen zu erzeugen. \n",
    "\n",
    "Ein Beispiel zeigt am Besten wie es geht: Aus einer Liste mit allen Zahlen von 0 bis 10000 sollen die geraden Zahlen quadriert und in eine neue Liste geschrieben werden."
   ]
  },
  {
   "cell_type": "code",
   "execution_count": 90,
   "metadata": {},
   "outputs": [
    {
     "data": {
      "text/plain": [
       "[1, 4, 7]"
      ]
     },
     "execution_count": 90,
     "metadata": {},
     "output_type": "execute_result"
    }
   ],
   "source": [
    "list(range(1, 10, 3))"
   ]
  },
  {
   "cell_type": "code",
   "execution_count": 69,
   "metadata": {},
   "outputs": [
    {
     "data": {
      "text/plain": [
       "[0, 1, 2, 3, 4, 5, 6, 7, 8, 9]"
      ]
     },
     "execution_count": 69,
     "metadata": {},
     "output_type": "execute_result"
    }
   ],
   "source": [
    "my_list = list(range(0, 10000, 1))  # Eine Liste mit allen Zahlen von 0 bis 9999\n",
    "my_list[:10]"
   ]
  },
  {
   "cell_type": "code",
   "execution_count": 72,
   "metadata": {},
   "outputs": [
    {
     "name": "stdout",
     "output_type": "stream",
     "text": [
      "[0, 4, 16, 36, 64, 100, 144, 196, 256, 324, 400, 484, 576, 676, 784, 900, 1024, 1156, 1296, 1444]\n",
      "[0, 4, 16, 36, 64, 100, 144, 196, 256, 324, 400, 484, 576, 676, 784, 900, 1024, 1156, 1296, 1444]\n",
      "[0, 4, 16, 36, 64, 100, 144, 196, 256, 324, 400, 484, 576, 676, 784, 900, 1024, 1156, 1296, 1444]\n",
      "[0, 4, 16, 36, 64, 100, 144, 196, 256, 324, 400, 484, 576, 676, 784, 900, 1024, 1156, 1296, 1444]\n",
      "[0, 4, 16, 36, 64, 100, 144, 196, 256, 324, 400, 484, 576, 676, 784, 900, 1024, 1156, 1296, 1444]\n",
      "[0, 4, 16, 36, 64, 100, 144, 196, 256, 324, 400, 484, 576, 676, 784, 900, 1024, 1156, 1296, 1444]\n",
      "[0, 4, 16, 36, 64, 100, 144, 196, 256, 324, 400, 484, 576, 676, 784, 900, 1024, 1156, 1296, 1444]\n",
      "[0, 4, 16, 36, 64, 100, 144, 196, 256, 324, 400, 484, 576, 676, 784, 900, 1024, 1156, 1296, 1444]\n",
      "[0, 4, 16, 36, 64, 100, 144, 196, 256, 324, 400, 484, 576, 676, 784, 900, 1024, 1156, 1296, 1444]\n",
      "[0, 4, 16, 36, 64, 100, 144, 196, 256, 324, 400, 484, 576, 676, 784, 900, 1024, 1156, 1296, 1444]\n",
      "The slowest run took 5.97 times longer than the fastest. This could mean that an intermediate result is being cached.\n",
      "2.41 ms ± 1.39 ms per loop (mean ± std. dev. of 10 runs, 1 loop each)\n"
     ]
    }
   ],
   "source": [
    "%%timeit -r 10 -n 1 # Mittelung über zehn Wiederholungen\n",
    "new_list_1 = []\n",
    "\n",
    "for item in my_list:\n",
    "    if item % 2 == 0:  # modulo 2\n",
    "        new_list_1.append(item * item)\n",
    "\n",
    "print(new_list_1[:20])"
   ]
  },
  {
   "cell_type": "code",
   "execution_count": 97,
   "metadata": {},
   "outputs": [
    {
     "ename": "NameError",
     "evalue": "name 'new_list_1' is not defined",
     "output_type": "error",
     "traceback": [
      "\u001b[0;31m---------------------------------------------------------------------------\u001b[0m",
      "\u001b[0;31mNameError\u001b[0m                                 Traceback (most recent call last)",
      "\u001b[0;32m<ipython-input-97-50434fe4c7ed>\u001b[0m in \u001b[0;36m<module>\u001b[0;34m\u001b[0m\n\u001b[0;32m----> 1\u001b[0;31m \u001b[0mprint\u001b[0m\u001b[0;34m(\u001b[0m\u001b[0mnew_list_1\u001b[0m\u001b[0;34m)\u001b[0m\u001b[0;34m\u001b[0m\u001b[0;34m\u001b[0m\u001b[0m\n\u001b[0m",
      "\u001b[0;31mNameError\u001b[0m: name 'new_list_1' is not defined"
     ]
    }
   ],
   "source": [
    "print(new_list_1)"
   ]
  },
  {
   "cell_type": "code",
   "execution_count": null,
   "metadata": {},
   "outputs": [],
   "source": []
  },
  {
   "cell_type": "code",
   "execution_count": 74,
   "metadata": {},
   "outputs": [
    {
     "name": "stdout",
     "output_type": "stream",
     "text": [
      "[0, 4, 16, 36, 64, 100, 144, 196, 256, 324, 400, 484, 576, 676, 784, 900, 1024, 1156, 1296, 1444]\n",
      "[0, 4, 16, 36, 64, 100, 144, 196, 256, 324, 400, 484, 576, 676, 784, 900, 1024, 1156, 1296, 1444]\n",
      "[0, 4, 16, 36, 64, 100, 144, 196, 256, 324, 400, 484, 576, 676, 784, 900, 1024, 1156, 1296, 1444]\n",
      "[0, 4, 16, 36, 64, 100, 144, 196, 256, 324, 400, 484, 576, 676, 784, 900, 1024, 1156, 1296, 1444]\n",
      "[0, 4, 16, 36, 64, 100, 144, 196, 256, 324, 400, 484, 576, 676, 784, 900, 1024, 1156, 1296, 1444]\n",
      "[0, 4, 16, 36, 64, 100, 144, 196, 256, 324, 400, 484, 576, 676, 784, 900, 1024, 1156, 1296, 1444]\n",
      "[0, 4, 16, 36, 64, 100, 144, 196, 256, 324, 400, 484, 576, 676, 784, 900, 1024, 1156, 1296, 1444]\n",
      "[0, 4, 16, 36, 64, 100, 144, 196, 256, 324, 400, 484, 576, 676, 784, 900, 1024, 1156, 1296, 1444]\n",
      "[0, 4, 16, 36, 64, 100, 144, 196, 256, 324, 400, 484, 576, 676, 784, 900, 1024, 1156, 1296, 1444]\n",
      "[0, 4, 16, 36, 64, 100, 144, 196, 256, 324, 400, 484, 576, 676, 784, 900, 1024, 1156, 1296, 1444]\n",
      "692 µs ± 52.4 µs per loop (mean ± std. dev. of 10 runs, 1 loop each)\n"
     ]
    }
   ],
   "source": [
    "%%timeit -r 10 -n 1 # Mittelung über zehn Wiederholungen\n",
    "\n",
    "#[mache das for element in liste if bedigung]\n",
    "\n",
    "new_list_2 = [item * item for item in my_list if item % 2 == 0]\n",
    "\n",
    "\n",
    "print(new_list_2[:20])"
   ]
  },
  {
   "cell_type": "code",
   "execution_count": 100,
   "metadata": {},
   "outputs": [
    {
     "name": "stdout",
     "output_type": "stream",
     "text": [
      "1.13 ms ± 680 µs per loop (mean ± std. dev. of 10 runs, 1 loop each)\n"
     ]
    }
   ],
   "source": [
    "%%timeit -r 10 -n 1\n",
    "new_list_3 = [item * item for item in range(10000) if item % 2 == 0]"
   ]
  },
  {
   "cell_type": "code",
   "execution_count": null,
   "metadata": {},
   "outputs": [],
   "source": []
  }
 ],
 "metadata": {
  "kernelspec": {
   "display_name": "Python 3 (ipykernel)",
   "language": "python",
   "name": "python3"
  },
  "language_info": {
   "codemirror_mode": {
    "name": "ipython",
    "version": 3
   },
   "file_extension": ".py",
   "mimetype": "text/x-python",
   "name": "python",
   "nbconvert_exporter": "python",
   "pygments_lexer": "ipython3",
   "version": "3.10.8"
  },
  "varInspector": {
   "cols": {
    "lenName": 16,
    "lenType": 16,
    "lenVar": 40
   },
   "kernels_config": {
    "python": {
     "delete_cmd_postfix": "",
     "delete_cmd_prefix": "del ",
     "library": "var_list.py",
     "varRefreshCmd": "print(var_dic_list())"
    },
    "r": {
     "delete_cmd_postfix": ") ",
     "delete_cmd_prefix": "rm(",
     "library": "var_list.r",
     "varRefreshCmd": "cat(var_dic_list()) "
    }
   },
   "types_to_exclude": [
    "module",
    "function",
    "builtin_function_or_method",
    "instance",
    "_Feature"
   ],
   "window_display": false
  }
 },
 "nbformat": 4,
 "nbformat_minor": 2
}
